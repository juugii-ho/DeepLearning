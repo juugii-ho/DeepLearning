{
 "cells": [
  {
   "cell_type": "code",
   "execution_count": 1,
   "metadata": {},
   "outputs": [
    {
     "name": "stderr",
     "output_type": "stream",
     "text": [
      "C:\\ProgramData\\anaconda3\\Lib\\site-packages\\torchvision\\io\\image.py:13: UserWarning: Failed to load image Python extension: '[WinError 127] 지정된 프로시저를 찾을 수 없습니다'If you don't plan on using image functionality from `torchvision.io`, you can ignore this warning. Otherwise, there might be something wrong with your environment. Did you have `libjpeg` or `libpng` installed before building `torchvision` from source?\n",
      "  warn(\n"
     ]
    }
   ],
   "source": [
    "import torch\n",
    "import pandas as pd\n",
    "import matplotlib.pyplot as plt\n",
    "import numpy as np\n",
    "import torch.nn as nn\n",
    "import torch.nn.functional as F\n",
    "import torch.optim as optim\n",
    "import torch.utils.data as data\n",
    "from torch.utils.data import Dataset, DataLoader,random_split\n",
    "from torch.optim.lr_scheduler import StepLR,ReduceLROnPlateau\n",
    "import torchmetrics.functional as metrics\n",
    "import os\n",
    "import shutil\n",
    "from torchvision import transforms\n",
    "from PIL import Image"
   ]
  },
  {
   "cell_type": "code",
   "execution_count": 2,
   "metadata": {},
   "outputs": [],
   "source": [
    "# 학습 검증용 데이터\n",
    "folder_path = '../data/train/train/'\n",
    "target_data = []\n",
    "img_data = []\n",
    "for encoding_label,label in enumerate(os.listdir(folder_path)):\n",
    "    label_path = os.path.join(folder_path, label)\n",
    "    if os.path.isdir(label_path):  # 디렉토리인 경우에만 진입\n",
    "        for img in os.listdir(folder_path+'/'+label):\n",
    "            image_path = os.path.join(folder_path,label,img)\n",
    "            if os.path.isfile(image_path):  # 파일인 경우에만 진입\n",
    "                with open(image_path, 'rb') as file:\n",
    "                    image = Image.open(file)\n",
    "                    width, height = image.size\n",
    "                    if width == 48 and height == 48:\n",
    "                        image_array = np.array(image)\n",
    "                        target_data.append(encoding_label)\n",
    "                        img_data.append(image_array)"
   ]
  },
  {
   "cell_type": "code",
   "execution_count": 3,
   "metadata": {},
   "outputs": [],
   "source": [
    "# 테스트용 데이터\n",
    "folder_path = '../data/test/test/'\n",
    "target_test = []\n",
    "img_test = []\n",
    "for encoding_label,label in enumerate(os.listdir(folder_path)):\n",
    "    label_path = os.path.join(folder_path, label)\n",
    "    if os.path.isdir(label_path):  # 디렉토리인 경우에만 진입\n",
    "        for img in os.listdir(folder_path+'/'+label):\n",
    "            image_path = os.path.join(folder_path,label,img)\n",
    "            if os.path.isfile(image_path):  # 파일인 경우에만 진입\n",
    "                with open(image_path, 'rb') as file:\n",
    "                    image = Image.open(file)\n",
    "                    width, height = image.size\n",
    "                    if width == 48 and height == 48:\n",
    "                        image_array = np.array(image)\n",
    "                        target_test.append(encoding_label)\n",
    "                        img_test.append(image_array)"
   ]
  },
  {
   "cell_type": "code",
   "execution_count": 4,
   "metadata": {},
   "outputs": [
    {
     "name": "stdout",
     "output_type": "stream",
     "text": [
      "(28709, 2304)\n"
     ]
    }
   ],
   "source": [
    "# 이미지 데이터 정규화\n",
    "x_data = np.array(img_data)/255.\n",
    "x_data = x_data.reshape((-1,48*48))\n",
    "print(x_data.shape)"
   ]
  },
  {
   "cell_type": "code",
   "execution_count": 5,
   "metadata": {},
   "outputs": [
    {
     "name": "stdout",
     "output_type": "stream",
     "text": [
      "(7178, 2304)\n"
     ]
    }
   ],
   "source": [
    "x_data_test = np.array(img_test)/255.\n",
    "x_data_test = x_data_test.reshape((-1,48*48))\n",
    "print(x_data_test.shape)"
   ]
  },
  {
   "cell_type": "code",
   "execution_count": 6,
   "metadata": {},
   "outputs": [
    {
     "data": {
      "text/plain": [
       "2    7215\n",
       "6    4965\n",
       "4    4830\n",
       "5    4097\n",
       "3    3995\n",
       "0    3171\n",
       "1     436\n",
       "Name: count, dtype: int64"
      ]
     },
     "execution_count": 6,
     "metadata": {},
     "output_type": "execute_result"
    }
   ],
   "source": [
    "target_data = pd.Series(target_data).replace({0:3, 5:4, 2:5, 3:2, 6:0, 4:6, 7:1})\n",
    "target_data.value_counts()"
   ]
  },
  {
   "cell_type": "code",
   "execution_count": 7,
   "metadata": {},
   "outputs": [
    {
     "data": {
      "text/plain": [
       "2    1774\n",
       "4    1247\n",
       "6    1233\n",
       "5    1024\n",
       "3     958\n",
       "0     831\n",
       "1     111\n",
       "Name: count, dtype: int64"
      ]
     },
     "execution_count": 7,
     "metadata": {},
     "output_type": "execute_result"
    }
   ],
   "source": [
    "target_test = pd.Series(target_test).replace({0:3, 5:4, 2:5, 3:2, 6:0, 4:6, 7:1})\n",
    "target_test.value_counts()"
   ]
  },
  {
   "cell_type": "code",
   "execution_count": 8,
   "metadata": {},
   "outputs": [],
   "source": [
    "# 데이터 클래스 생성\n",
    "class DLdataset(Dataset):\n",
    "    \n",
    "    def __init__(self,x_data,y_data):\n",
    "        super().__init__()\n",
    "        self.feature = torch.FloatTensor(x_data)\n",
    "        self.target = torch.LongTensor(y_data)\n",
    "        \n",
    "    def __len__(self):\n",
    "        return self.target.shape[0]\n",
    "    \n",
    "    def __getitem__(self,idx):\n",
    "        return self.feature[idx], self.target[idx]"
   ]
  },
  {
   "cell_type": "code",
   "execution_count": 9,
   "metadata": {},
   "outputs": [],
   "source": [
    "# 데이터셋 생성\n",
    "dataset = DLdataset(x_data,target_data)\n",
    "dataset_test = DLdataset(x_data_test, target_test)"
   ]
  },
  {
   "cell_type": "code",
   "execution_count": 10,
   "metadata": {},
   "outputs": [],
   "source": [
    "# 학습용, 검증용 데이터 준비\n",
    "seed = torch.Generator().manual_seed(42)\n",
    "trainDS, validDS = random_split(dataset, [0.8,0.2], generator=seed)\n"
   ]
  },
  {
   "cell_type": "code",
   "execution_count": 11,
   "metadata": {},
   "outputs": [],
   "source": [
    "# 모델 클래스 정의\n",
    "class Model(nn.Module):\n",
    "    \n",
    "    def __init__(self, IN, OUT):\n",
    "        super().__init__()\n",
    "        self.input = nn.Linear(IN, 128) \n",
    "        self.af = nn.ReLU()\n",
    "        self.hidden = nn.Linear(128, 32)\n",
    "        self.output = nn.Linear(32, OUT)\n",
    "        \n",
    "    def forward(self, x):\n",
    "        y = self.input(x)\n",
    "        y = self.af(y)\n",
    "        y = self.hidden(y)\n",
    "        y = self.af(y)\n",
    "        y = self.output(y)\n",
    "        \n",
    "        return y"
   ]
  },
  {
   "cell_type": "code",
   "execution_count": 12,
   "metadata": {},
   "outputs": [],
   "source": [
    "# 학습 준비\n",
    "\n",
    "DEVICE = 'cuda' if torch.cuda.is_available() else 'cpu'\n",
    "\n",
    "EPOCHS = 2000\n",
    "\n",
    "IN = dataset.feature.shape[1]\n",
    "OUT = pd.Series(target_data).nunique()\n",
    "\n",
    "# 모델 생성\n",
    "model  = Model(IN,OUT)\n",
    "\n",
    "# 손실함수\n",
    "LF = nn.CrossEntropyLoss().to(DEVICE)\n",
    "\n",
    "# 옵티마이저\n",
    "OPTIMIZER = torch.optim.Adam(model.parameters())\n",
    "\n",
    "# 스케줄러\n",
    "SCHEDULER = ReduceLROnPlateau(OPTIMIZER, mode = 'min', patience = 3)"
   ]
  },
  {
   "cell_type": "code",
   "execution_count": 13,
   "metadata": {},
   "outputs": [],
   "source": [
    "def training(dataLoader):\n",
    "    \n",
    "    model.train()\n",
    "    train_report=[[], []]\n",
    "    for (feature, target) in dataLoader:\n",
    "\n",
    "        feature, target = feature.to(DEVICE), target.to(DEVICE)\n",
    "        \n",
    "        # 학습\n",
    "        pre_target = model(feature)\n",
    "        \n",
    "        # 손실계산\n",
    "        loss = LF(pre_target, target)\n",
    "        train_report[0].append(loss)\n",
    "  \n",
    "        # 성능 평가\n",
    "        acc = metrics.accuracy(pre_target.argmax(dim=1), target, task = 'multiclass',num_classes=OUT)\n",
    "        train_report[1].append(acc)\n",
    "        \n",
    "        # W,b업데이트\n",
    "        OPTIMIZER.zero_grad()\n",
    "        loss.backward()\n",
    "        OPTIMIZER.step()\n",
    "\n",
    "    loss_score = sum(train_report[0])/len(train_report[0])\n",
    "    acc_score = sum(train_report[1])/len(train_report[1])\n",
    "    print(f'[Train loss] ==> {loss_score}    [Train Accuracy] ==> {acc_score}')\n",
    "    return loss_score, acc_score"
   ]
  },
  {
   "cell_type": "code",
   "execution_count": null,
   "metadata": {},
   "outputs": [],
   "source": []
  },
  {
   "cell_type": "code",
   "execution_count": 14,
   "metadata": {},
   "outputs": [],
   "source": [
    "def testing(dataLoader):\n",
    "    \n",
    "    model.eval()\n",
    "    \n",
    "    with torch.no_grad():\n",
    "        test_report=[[], []]\n",
    "        for (feature, target)  in dataLoader:\n",
    "            # 배치크기만큼의 학습 데이터 준비\n",
    "            feature, target = feature.to(DEVICE), target.to(DEVICE)\n",
    "            \n",
    "            # 학습\n",
    "            pre_target = model(feature)\n",
    "            \n",
    "            # 손실계산\n",
    "            loss = LF(pre_target, target)\n",
    "            test_report[0].append(loss)\n",
    "      \n",
    "            # 성능 평가\n",
    "            acc = metrics.accuracy(pre_target.argmax(dim=1), target, task = 'multiclass',num_classes=OUT)\n",
    "            test_report[1].append(acc)\n",
    "    \n",
    "    loss_score = sum(test_report[0])/len(test_report[0])\n",
    "    acc_score = sum(test_report[1])/len(test_report[1])\n",
    "\n",
    "    print(f'[Test loss] ==> {loss_score}    [Test Accuracy] ==> {acc_score}')\n",
    "    return loss_score, acc_score"
   ]
  },
  {
   "cell_type": "code",
   "execution_count": null,
   "metadata": {},
   "outputs": [],
   "source": []
  },
  {
   "cell_type": "code",
   "execution_count": 15,
   "metadata": {},
   "outputs": [
    {
     "name": "stdout",
     "output_type": "stream",
     "text": [
      "[1/2000]\n",
      "[Train loss] ==> 1.7844654321670532    [Train Accuracy] ==> 0.2711089849472046\n",
      "[Test loss] ==> 1.7113263607025146    [Test Accuracy] ==> 0.33454304933547974\n",
      "[2/2000]\n",
      "[Train loss] ==> 1.7097376585006714    [Train Accuracy] ==> 0.3212047219276428\n",
      "[Test loss] ==> 1.6650176048278809    [Test Accuracy] ==> 0.34442630410194397\n",
      "[3/2000]\n",
      "[Train loss] ==> 1.6780332326889038    [Train Accuracy] ==> 0.33918002247810364\n",
      "[Test loss] ==> 1.6474828720092773    [Test Accuracy] ==> 0.34947505593299866\n",
      "[4/2000]\n",
      "[Train loss] ==> 1.660597562789917    [Train Accuracy] ==> 0.3451862931251526\n",
      "[Test loss] ==> 1.634196400642395    [Test Accuracy] ==> 0.3573092818260193\n",
      "[5/2000]\n",
      "[Train loss] ==> 1.6464006900787354    [Train Accuracy] ==> 0.3516713082790375\n",
      "[Test loss] ==> 1.6202938556671143    [Test Accuracy] ==> 0.3653176426887512\n",
      "[6/2000]\n",
      "[Train loss] ==> 1.6318405866622925    [Train Accuracy] ==> 0.357372909784317\n",
      "[Test loss] ==> 1.6150834560394287    [Test Accuracy] ==> 0.36479535698890686\n",
      "[7/2000]\n",
      "[Train loss] ==> 1.620009183883667    [Train Accuracy] ==> 0.3624216616153717\n",
      "[Test loss] ==> 1.6078673601150513    [Test Accuracy] ==> 0.3677549660205841\n",
      "[8/2000]\n",
      "[Train loss] ==> 1.6107254028320312    [Train Accuracy] ==> 0.365163654088974\n",
      "[Test loss] ==> 1.6122353076934814    [Test Accuracy] ==> 0.3675808608531952\n",
      "[9/2000]\n",
      "[Train loss] ==> 1.6021772623062134    [Train Accuracy] ==> 0.36960306763648987\n",
      "[Test loss] ==> 1.6034502983093262    [Test Accuracy] ==> 0.37332600355148315\n",
      "[10/2000]\n",
      "[Train loss] ==> 1.5951513051986694    [Train Accuracy] ==> 0.37404248118400574\n",
      "[Test loss] ==> 1.5887631177902222    [Test Accuracy] ==> 0.3782006502151489\n",
      "[11/2000]\n",
      "[Train loss] ==> 1.5859110355377197    [Train Accuracy] ==> 0.3756093382835388\n",
      "[Test loss] ==> 1.5893886089324951    [Test Accuracy] ==> 0.3755892217159271\n",
      "[12/2000]\n",
      "[Train loss] ==> 1.5787118673324585    [Train Accuracy] ==> 0.37983113527297974\n",
      "[Test loss] ==> 1.5908637046813965    [Test Accuracy] ==> 0.38028979301452637\n",
      "[13/2000]\n",
      "[Train loss] ==> 1.5726832151412964    [Train Accuracy] ==> 0.3833565413951874\n",
      "[Test loss] ==> 1.5888129472732544    [Test Accuracy] ==> 0.38112008571624756\n",
      "[14/2000]\n",
      "[Train loss] ==> 1.5663222074508667    [Train Accuracy] ==> 0.3876218795776367\n",
      "[Test loss] ==> 1.6041619777679443    [Test Accuracy] ==> 0.37645968794822693\n",
      "[15/2000]\n",
      "[Train loss] ==> 1.5599125623703003    [Train Accuracy] ==> 0.3891887068748474\n",
      "[Test loss] ==> 1.6202154159545898    [Test Accuracy] ==> 0.36732643842697144\n",
      "Early stopping at epoch 14\n",
      "[1/2000]\n",
      "[Train loss] ==> 1.5409538745880127    [Train Accuracy] ==> 0.39660224318504333\n",
      "[Test loss] ==> 1.5805184841156006    [Test Accuracy] ==> 0.385817289352417\n",
      "[2/2000]\n",
      "[Train loss] ==> 1.5350502729415894    [Train Accuracy] ==> 0.397864431142807\n",
      "[Test loss] ==> 1.5768839120864868    [Test Accuracy] ==> 0.385817289352417\n",
      "[3/2000]\n",
      "[Train loss] ==> 1.5316294431686401    [Train Accuracy] ==> 0.39993906021118164\n",
      "[Test loss] ==> 1.5766406059265137    [Test Accuracy] ==> 0.38876867294311523\n",
      "[4/2000]\n",
      "[Train loss] ==> 1.529814600944519    [Train Accuracy] ==> 0.40166550874710083\n",
      "[Test loss] ==> 1.5850664377212524    [Test Accuracy] ==> 0.3886752128601074\n",
      "[5/2000]\n",
      "[Train loss] ==> 1.5228352546691895    [Train Accuracy] ==> 0.4044800102710724\n",
      "[Test loss] ==> 1.5767581462860107    [Test Accuracy] ==> 0.38564369082450867\n",
      "[6/2000]\n",
      "[Train loss] ==> 1.5189554691314697    [Train Accuracy] ==> 0.40778782963752747\n",
      "[Test loss] ==> 1.5784530639648438    [Test Accuracy] ==> 0.39075854420661926\n",
      "[7/2000]\n",
      "[Train loss] ==> 1.5156528949737549    [Train Accuracy] ==> 0.41037026047706604\n",
      "[Test loss] ==> 1.5829832553863525    [Test Accuracy] ==> 0.38633811473846436\n",
      "[8/2000]\n",
      "[Train loss] ==> 1.511451005935669    [Train Accuracy] ==> 0.4143454134464264\n",
      "[Test loss] ==> 1.579811453819275    [Test Accuracy] ==> 0.39058494567871094\n",
      "Early stopping at epoch 7\n",
      "[1/2000]\n",
      "[Train loss] ==> 1.498876690864563    [Train Accuracy] ==> 0.419599324464798\n",
      "[Test loss] ==> 1.5865522623062134    [Test Accuracy] ==> 0.3859490752220154\n",
      "[2/2000]\n",
      "[Train loss] ==> 1.4948391914367676    [Train Accuracy] ==> 0.4211537539958954\n",
      "[Test loss] ==> 1.576994776725769    [Test Accuracy] ==> 0.3862230181694031\n",
      "[3/2000]\n",
      "[Train loss] ==> 1.491970419883728    [Train Accuracy] ==> 0.4226894974708557\n",
      "[Test loss] ==> 1.5818959474563599    [Test Accuracy] ==> 0.3866705298423767\n",
      "[4/2000]\n",
      "[Train loss] ==> 1.4898790121078491    [Train Accuracy] ==> 0.42368432879447937\n",
      "[Test loss] ==> 1.5900276899337769    [Test Accuracy] ==> 0.3865431845188141\n",
      "[5/2000]\n",
      "[Train loss] ==> 1.4876999855041504    [Train Accuracy] ==> 0.4244677722454071\n",
      "[Test loss] ==> 1.583785891532898    [Test Accuracy] ==> 0.38490739464759827\n",
      "[6/2000]\n",
      "[Train loss] ==> 1.4849854707717896    [Train Accuracy] ==> 0.4253755509853363\n",
      "[Test loss] ==> 1.582148551940918    [Test Accuracy] ==> 0.3874112367630005\n",
      "[7/2000]\n",
      "[Train loss] ==> 1.4829005002975464    [Train Accuracy] ==> 0.42729678750038147\n",
      "[Test loss] ==> 1.5879729986190796    [Test Accuracy] ==> 0.38317129015922546\n",
      "Early stopping at epoch 6\n",
      "[1/2000]\n",
      "[Train loss] ==> 1.4740746021270752    [Train Accuracy] ==> 0.4302331209182739\n",
      "[Test loss] ==> 1.575912356376648    [Test Accuracy] ==> 0.39225757122039795\n",
      "[2/2000]\n",
      "[Train loss] ==> 1.47263765335083    [Train Accuracy] ==> 0.43001610040664673\n",
      "[Test loss] ==> 1.5715571641921997    [Test Accuracy] ==> 0.3917064666748047\n",
      "[3/2000]\n",
      "[Train loss] ==> 1.4703686237335205    [Train Accuracy] ==> 0.4315786063671112\n",
      "[Test loss] ==> 1.5722178220748901    [Test Accuracy] ==> 0.39121589064598083\n",
      "[4/2000]\n",
      "[Train loss] ==> 1.4670332670211792    [Train Accuracy] ==> 0.43384796380996704\n",
      "[Test loss] ==> 1.57393217086792    [Test Accuracy] ==> 0.3899703621864319\n",
      "[5/2000]\n",
      "[Train loss] ==> 1.4645919799804688    [Train Accuracy] ==> 0.4333271384239197\n",
      "[Test loss] ==> 1.5722941160202026    [Test Accuracy] ==> 0.38982701301574707\n",
      "[6/2000]\n",
      "[Train loss] ==> 1.462982177734375    [Train Accuracy] ==> 0.43532368540763855\n",
      "[Test loss] ==> 1.570428490638733    [Test Accuracy] ==> 0.39049118757247925\n",
      "[7/2000]\n",
      "[Train loss] ==> 1.4620312452316284    [Train Accuracy] ==> 0.4353794455528259\n",
      "[Test loss] ==> 1.5703293085098267    [Test Accuracy] ==> 0.38878533244132996\n",
      "[8/2000]\n",
      "[Train loss] ==> 1.4603487253189087    [Train Accuracy] ==> 0.43637770414352417\n",
      "[Test loss] ==> 1.5686416625976562    [Test Accuracy] ==> 0.3945145010948181\n",
      "[9/2000]\n",
      "[Train loss] ==> 1.4586116075515747    [Train Accuracy] ==> 0.4359002709388733\n",
      "[Test loss] ==> 1.5711432695388794    [Test Accuracy] ==> 0.3901137113571167\n",
      "[10/2000]\n",
      "[Train loss] ==> 1.4581888914108276    [Train Accuracy] ==> 0.436972975730896\n",
      "[Test loss] ==> 1.567821979522705    [Test Accuracy] ==> 0.3901742398738861\n",
      "[11/2000]\n",
      "[Train loss] ==> 1.4563097953796387    [Train Accuracy] ==> 0.43790924549102783\n",
      "[Test loss] ==> 1.5705523490905762    [Test Accuracy] ==> 0.39225757122039795\n",
      "[12/2000]\n",
      "[Train loss] ==> 1.454028844833374    [Train Accuracy] ==> 0.43837425112724304\n",
      "[Test loss] ==> 1.5733625888824463    [Test Accuracy] ==> 0.385947048664093\n",
      "[13/2000]\n",
      "[Train loss] ==> 1.451416015625    [Train Accuracy] ==> 0.4407738149166107\n",
      "[Test loss] ==> 1.5693364143371582    [Test Accuracy] ==> 0.39121589064598083\n",
      "[14/2000]\n",
      "[Train loss] ==> 1.450007438659668    [Train Accuracy] ==> 0.4416728615760803\n",
      "[Test loss] ==> 1.5655484199523926    [Test Accuracy] ==> 0.3901742398738861\n",
      "[15/2000]\n",
      "[Train loss] ==> 1.4479098320007324    [Train Accuracy] ==> 0.4414248466491699\n",
      "[Test loss] ==> 1.5657694339752197    [Test Accuracy] ==> 0.39312562346458435\n",
      "[16/2000]\n",
      "[Train loss] ==> 1.4463443756103516    [Train Accuracy] ==> 0.4416728615760803\n",
      "[Test loss] ==> 1.56637704372406    [Test Accuracy] ==> 0.3933597505092621\n",
      "[17/2000]\n",
      "[Train loss] ==> 1.4451518058776855    [Train Accuracy] ==> 0.44251611828804016\n",
      "[Test loss] ==> 1.569459319114685    [Test Accuracy] ==> 0.39228782057762146\n",
      "[18/2000]\n",
      "[Train loss] ==> 1.4425594806671143    [Train Accuracy] ==> 0.4435268044471741\n",
      "[Test loss] ==> 1.567915678024292    [Test Accuracy] ==> 0.39037811756134033\n",
      "[19/2000]\n",
      "[Train loss] ==> 1.4405862092971802    [Train Accuracy] ==> 0.4441468119621277\n",
      "[Test loss] ==> 1.5674253702163696    [Test Accuracy] ==> 0.39037811756134033\n",
      "Early stopping at epoch 18\n",
      "[1/2000]\n"
     ]
    },
    {
     "name": "stdout",
     "output_type": "stream",
     "text": [
      "[Train loss] ==> 1.4432908296585083    [Train Accuracy] ==> 0.4439103901386261\n",
      "[Test loss] ==> 1.5790684223175049    [Test Accuracy] ==> 0.38800111413002014\n",
      "[2/2000]\n",
      "[Train loss] ==> 1.4414982795715332    [Train Accuracy] ==> 0.44437840580940247\n",
      "[Test loss] ==> 1.5785044431686401    [Test Accuracy] ==> 0.38448596000671387\n",
      "[3/2000]\n",
      "[Train loss] ==> 1.4393502473831177    [Train Accuracy] ==> 0.44487279653549194\n",
      "[Test loss] ==> 1.5792584419250488    [Test Accuracy] ==> 0.38896092772483826\n",
      "[4/2000]\n",
      "[Train loss] ==> 1.437695026397705    [Train Accuracy] ==> 0.44444820284843445\n",
      "[Test loss] ==> 1.578576922416687    [Test Accuracy] ==> 0.3879418969154358\n",
      "[5/2000]\n",
      "[Train loss] ==> 1.4357264041900635    [Train Accuracy] ==> 0.4458710551261902\n",
      "[Test loss] ==> 1.5785578489303589    [Test Accuracy] ==> 0.3876022398471832\n",
      "[6/2000]\n",
      "[Train loss] ==> 1.4341462850570679    [Train Accuracy] ==> 0.44697311520576477\n",
      "[Test loss] ==> 1.5774106979370117    [Test Accuracy] ==> 0.3870927095413208\n",
      "[7/2000]\n",
      "[Train loss] ==> 1.4333547353744507    [Train Accuracy] ==> 0.44829219579696655\n",
      "[Test loss] ==> 1.5771491527557373    [Test Accuracy] ==> 0.38800111413002014\n",
      "[8/2000]\n",
      "[Train loss] ==> 1.432612657546997    [Train Accuracy] ==> 0.4483356177806854\n",
      "[Test loss] ==> 1.577958106994629    [Test Accuracy] ==> 0.3861328959465027\n",
      "[9/2000]\n",
      "[Train loss] ==> 1.4311234951019287    [Train Accuracy] ==> 0.44894325733184814\n",
      "[Test loss] ==> 1.5775023698806763    [Test Accuracy] ==> 0.38658320903778076\n",
      "[10/2000]\n",
      "[Train loss] ==> 1.4292573928833008    [Train Accuracy] ==> 0.4500887095928192\n",
      "[Test loss] ==> 1.5773272514343262    [Test Accuracy] ==> 0.3878234922885895\n",
      "[11/2000]\n",
      "[Train loss] ==> 1.4276156425476074    [Train Accuracy] ==> 0.4506359398365021\n",
      "[Test loss] ==> 1.5784063339233398    [Test Accuracy] ==> 0.3881709575653076\n",
      "[12/2000]\n",
      "[Train loss] ==> 1.4256161451339722    [Train Accuracy] ==> 0.45154741406440735\n",
      "[Test loss] ==> 1.578565001487732    [Test Accuracy] ==> 0.39009055495262146\n",
      "Early stopping at epoch 11\n"
     ]
    }
   ],
   "source": [
    "# 기본 배치사이즈 32\n",
    "\n",
    "BATCHLIST = [16, 32, 64, 128, 256]\n",
    "\n",
    "for BATCH in BATCHLIST:\n",
    "    trainDL = DataLoader(trainDS, batch_size=BATCH)\n",
    "    validDL = DataLoader(validDS, batch_size=BATCH)\n",
    "    testDL = DataLoader(dataset_test, batch_size=BATCH)\n",
    "\n",
    "\n",
    "    min_loss = 100.0  # 초기 최소 손실 설정\n",
    "    cnt = 0\n",
    "    for eps in range(EPOCHS):\n",
    "        print(f'[{eps+1}/{EPOCHS}]')\n",
    "        # 학습\n",
    "        train_loss, train_acc = training(trainDL)\n",
    "\n",
    "        # 검증\n",
    "        val_loss, val_acc = testing(validDL)\n",
    "        \n",
    "        # 최소 손실 업데이트\n",
    "        if val_loss < min_loss:\n",
    "            min_loss = val_loss\n",
    "            cnt = 0\n",
    "            torch.save(model.state_dict(), \"my_trained_model3 \"+str(BATCH)+\".pth\")\n",
    "\n",
    "        else:\n",
    "            cnt+=1\n",
    "\n",
    "        # 조기 종료 기능 => 조건 : val_loss가 지정된 횟수 이상 개선이 안되면 학습 종료\n",
    "        if SCHEDULER.num_bad_epochs >= SCHEDULER.patience or cnt >= 5:\n",
    "            print(f\"Early stopping at epoch {eps}\")\n",
    "            break"
   ]
  },
  {
   "cell_type": "code",
   "execution_count": 16,
   "metadata": {},
   "outputs": [],
   "source": [
    "# min_loss = 100.0  # 초기 최소 손실 설정\n",
    "# cnt = 0\n",
    "# for eps in range(EPOCHS):\n",
    "#     print(f'[{eps+1}/{EPOCHS}]')\n",
    "#     # 학습\n",
    "#     train_loss, train_acc = training(trainDL)\n",
    "\n",
    "#     # 검증\n",
    "#     val_loss, val_acc = testing(validDL)\n",
    "    \n",
    "#     # 최소 손실 업데이트\n",
    "#     if val_loss < min_loss:\n",
    "#         min_loss = val_loss\n",
    "#         cnt = 0\n",
    "#         torch.save(model.state_dict(), \"my_trained_model.pth\")\n",
    "\n",
    "#     else:\n",
    "#         cnt+=1\n",
    "\n",
    "#     # 조기 종료 기능 => 조건 : val_loss가 지정된 횟수 이상 개선이 안되면 학습 종료\n",
    "#     if SCHEDULER.num_bad_epochs >= SCHEDULER.patience or cnt >= 5:\n",
    "#         print(f\"Early stopping at epoch {eps}\")\n",
    "#         break"
   ]
  },
  {
   "cell_type": "code",
   "execution_count": 17,
   "metadata": {},
   "outputs": [
    {
     "name": "stdout",
     "output_type": "stream",
     "text": [
      "[Train loss] ==> 1.4253636598587036    [Train Accuracy] ==> 0.4508265554904938\n"
     ]
    },
    {
     "data": {
      "text/plain": [
       "(tensor(1.4254, grad_fn=<DivBackward0>), tensor(0.4508))"
      ]
     },
     "execution_count": 17,
     "metadata": {},
     "output_type": "execute_result"
    }
   ],
   "source": [
    "training(trainDL)"
   ]
  },
  {
   "cell_type": "code",
   "execution_count": 18,
   "metadata": {},
   "outputs": [
    {
     "name": "stdout",
     "output_type": "stream",
     "text": [
      "[Test loss] ==> 1.5791363716125488    [Test Accuracy] ==> 0.38788267970085144\n"
     ]
    },
    {
     "data": {
      "text/plain": [
       "(tensor(1.5791), tensor(0.3879))"
      ]
     },
     "execution_count": 18,
     "metadata": {},
     "output_type": "execute_result"
    }
   ],
   "source": [
    "testing(validDL)"
   ]
  },
  {
   "cell_type": "code",
   "execution_count": 19,
   "metadata": {},
   "outputs": [],
   "source": [
    "# predicting(testDL, 5)"
   ]
  },
  {
   "cell_type": "code",
   "execution_count": null,
   "metadata": {},
   "outputs": [],
   "source": []
  },
  {
   "cell_type": "code",
   "execution_count": null,
   "metadata": {},
   "outputs": [],
   "source": []
  },
  {
   "cell_type": "code",
   "execution_count": null,
   "metadata": {},
   "outputs": [],
   "source": []
  },
  {
   "cell_type": "code",
   "execution_count": null,
   "metadata": {},
   "outputs": [],
   "source": []
  },
  {
   "cell_type": "code",
   "execution_count": null,
   "metadata": {},
   "outputs": [],
   "source": []
  },
  {
   "cell_type": "code",
   "execution_count": null,
   "metadata": {},
   "outputs": [],
   "source": []
  },
  {
   "cell_type": "code",
   "execution_count": null,
   "metadata": {},
   "outputs": [],
   "source": []
  },
  {
   "cell_type": "code",
   "execution_count": null,
   "metadata": {},
   "outputs": [],
   "source": []
  }
 ],
 "metadata": {
  "kernelspec": {
   "display_name": "Python 3 (ipykernel)",
   "language": "python",
   "name": "python3"
  },
  "language_info": {
   "codemirror_mode": {
    "name": "ipython",
    "version": 3
   },
   "file_extension": ".py",
   "mimetype": "text/x-python",
   "name": "python",
   "nbconvert_exporter": "python",
   "pygments_lexer": "ipython3",
   "version": "3.11.5"
  }
 },
 "nbformat": 4,
 "nbformat_minor": 2
}
