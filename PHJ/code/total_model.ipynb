{
 "cells": [
  {
   "cell_type": "code",
   "execution_count": null,
   "id": "initial_id",
   "metadata": {
    "collapsed": true
   },
   "outputs": [],
   "source": []
  },
  {
   "cell_type": "code",
   "outputs": [],
   "source": [
    "import torch\n",
    "  # 사용자 정의 모델 클래스\n",
    "\n",
    "model = torch.load('model.pth')\n",
    "model.eval()  # 추론 모드로 설정\n",
    "\n",
    "# 추론 수행\n",
    "with torch.no_grad():\n",
    "    output = model(inpuh)\n",
    "\n",
    "# 출력값에서 가장 높은 확률을 가진 클래스 인덱스 확인\n",
    "_, predicted = torch.max(output, 1)"
   ],
   "metadata": {
    "collapsed": false
   },
   "id": "516ad4b5b9cecac1"
  }
 ],
 "metadata": {
  "kernelspec": {
   "display_name": "Python 3",
   "language": "python",
   "name": "python3"
  },
  "language_info": {
   "codemirror_mode": {
    "name": "ipython",
    "version": 2
   },
   "file_extension": ".py",
   "mimetype": "text/x-python",
   "name": "python",
   "nbconvert_exporter": "python",
   "pygments_lexer": "ipython2",
   "version": "2.7.6"
  }
 },
 "nbformat": 4,
 "nbformat_minor": 5
}
